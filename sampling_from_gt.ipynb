{
 "cells": [
  {
   "cell_type": "code",
   "execution_count": 1,
   "metadata": {},
   "outputs": [],
   "source": [
    "#%%\n",
    "# Import required modules\n",
    "import torch\n",
    "import numpy as np\n",
    "import matplotlib.pyplot as plt\n",
    "from torch.distributions.multivariate_normal import MultivariateNormal\n",
    "from torch.distributions.mixture_same_family import MixtureSameFamily\n",
    "from torch.distributions.normal import Normal\n",
    "from torch.distributions.categorical import Categorical\n",
    "from torch.distributions.independent import Independent\n",
    "from lightning_data_modules.SyntheticDataset import SyntheticDataModule\n",
    "from lightning_modules.BaseSdeGenerativeModel import BaseSdeGenerativeModel\n",
    "from lightning_modules.FokkerPlanckModel import FokkerPlanckModel\n",
    "from lightning_modules.ConservativeSdeGenerativeModel import ConservativeSdeGenerativeModel\n",
    "from models.fcn_potential import FCN_Potential\n",
    "from models.fcn import FCN\n",
    "from models.utils import get_score_fn\n",
    "from utils import compute_divergence, compute_grad, compute_curl, generate_grid, extract_vector_field, fisher_divergence\n",
    "from plot_utils import plot_log_energy"
   ]
  },
  {
   "cell_type": "code",
   "execution_count": 2,
   "metadata": {},
   "outputs": [],
   "source": [
    "def calculate_wasserstein(batch1, batch2):\n",
    "    import ot\n",
    "    n_batch = batch1.shape[0]\n",
    "    cost_matrix = torch.cdist(batch1, batch2) ** 2\n",
    "    weights = torch.ones(n_batch)/n_batch\n",
    "    wasserstein = float(ot.emd2(weights, weights, cost_matrix, numItermax=int(1e6)))\n",
    "    return wasserstein\n",
    "\n",
    "def visualise_samples(samples, title='samples', force_range=False):\n",
    "    samples_np =  samples.cpu().numpy()\n",
    "    plt.figure(figsize=(10,10))\n",
    "    image = plt.scatter(samples_np[:,0],samples_np[:,1])\n",
    "    if force_range:\n",
    "        plt.ylim(-1.5,1.5)\n",
    "        plt.xlim(-1.5,1.5)\n",
    "    plt.gca().set_aspect('equal')\n",
    "    plt.savefig('figures/'+title, dpi=300)\n",
    "\n",
    "def print_sampling_parameters(config):\n",
    "    sampling = config.sampling\n",
    "    model = config.model\n",
    "    print('predictor:', sampling.predictor)\n",
    "    print('num_time_steps', model.num_scales)\n",
    "    print('corrector:', sampling.corrector)\n",
    "    print('snr:',  sampling.snr)\n",
    "    print('n_steps_each:', sampling.n_steps_each)\n",
    "    print('probability_flow:', sampling.probability_flow)\n",
    "    print('noise_removal:', sampling.noise_removal)\n",
    "\n",
    "def get_sampling_config(config, snr=0.075, predictor='reverse_diffusion', corrector = 'none', \n",
    "                n_steps_each=1, probability_flow=False, num_scales=1000):\n",
    "    \n",
    "    sampling = config.sampling\n",
    "    sampling.corrector = 'pc'\n",
    "    sampling.predictor =  predictor\n",
    "    sampling.corrector = corrector\n",
    "    sampling.n_steps_each = n_steps_each\n",
    "    sampling.noise_removal = True\n",
    "    sampling.probability_flow = probability_flow\n",
    "    sampling.snr = snr\n",
    "\n",
    "    model = config.model\n",
    "    model.num_scales = num_scales\n",
    "\n",
    "    return config\n",
    "\n",
    "def sample(ckpt_path, sampling_config):\n",
    "    from sampling.unconditional import get_sampling_fn\n",
    "    pl_module = FokkerPlanckModel.load_from_checkpoint(ckpt_path)\n",
    "    score_model = pl_module.score_model\n",
    "    pl_module.configure_sde(config)\n",
    "    pl_module = pl_module.eval()\n",
    "\n",
    "    num_samples = 1000   \n",
    "    sde = pl_module.sde\n",
    "    sampling_eps = 1e-5\n",
    "    sampling_shape = [num_samples] +  config.data.shape\n",
    "    sampling_fn = get_sampling_fn(config, sde, sampling_shape, sampling_eps)\n",
    "    score_model = pl_module.score_model\n",
    "    samples, _ = sampling_fn(score_model)#, show_evolution=False)\n",
    "    return samples"
   ]
  },
  {
   "cell_type": "markdown",
   "metadata": {},
   "source": [
    "# Tests"
   ]
  },
  {
   "cell_type": "code",
   "execution_count": 3,
   "metadata": {},
   "outputs": [],
   "source": [
    "import torch.nn as nn\n",
    "import pytorch_lightning as pl\n",
    "class GTModel(pl.LightningModule):\n",
    "    def __init__(self, gt_fn, energy_fn=None):\n",
    "        super().__init__()\n",
    "        self.gt_fn = gt_fn\n",
    "        self.energy_fn = energy_fn\n",
    "\n",
    "    def forward(self, x, t):\n",
    "        return self.gt_fn(x, t)\n",
    "\n",
    "    def energy(self, x, t):\n",
    "        if self.energy_fn is None:\n",
    "            print('No energy function')\n",
    "            return None\n",
    "        return self.energy_fn(x,t)\n",
    "        \n"
   ]
  },
  {
   "cell_type": "code",
   "execution_count": 6,
   "metadata": {},
   "outputs": [],
   "source": [
    "from configs.jan.gaussian.fokker_planck_gauss import get_config\n",
    "from lightning_data_modules.SyntheticDataset import SyntheticDataModule\n",
    "from sampling.unconditional import get_sampling_fn\n",
    "config = get_config()\n",
    "config.data.mixtures=10\n",
    "config.data.std = 0.05\n",
    "data_m = SyntheticDataModule(config)\n",
    "data_m.setup()\n",
    "num_samples = 500  \n",
    "dataset = data_m.dataset\n",
    "sde = dataset.sde\n",
    "\n",
    "sampling_eps = 1e-5\n",
    "sampling_shape = [num_samples] +  config.data.shape\n",
    "gamma = 1\n",
    "gt_score_fn = lambda x,t: gamma * dataset.ground_truth_score(x,t)\n",
    "gt_energy_fn = lambda x,t: torch.exp(dataset.log_prob(x,t))\n",
    "score_model = GTModel(gt_score_fn, gt_energy_fn)\n"
   ]
  },
  {
   "cell_type": "code",
   "execution_count": 42,
   "metadata": {},
   "outputs": [],
   "source": [
    "config = get_sampling_config(config, snr=0.01, predictor='none', corrector = 'langevin', \n",
    "                n_steps_each=1, probability_flow=False, num_scales=1000)\n",
    "\n",
    "data_m = SyntheticDataModule(config)\n",
    "data_m.setup()\n",
    "num_samples = 1000  \n",
    "dataset = data_m.dataset\n",
    "sde = dataset.sde\n",
    "\n",
    "sampling_fn = get_sampling_fn(config, sde, sampling_shape, sampling_eps)\n"
   ]
  },
  {
   "cell_type": "code",
   "execution_count": 43,
   "metadata": {},
   "outputs": [
    {
     "name": "stderr",
     "output_type": "stream",
     "text": [
      "100%|██████████| 1000/1000 [00:05<00:00, 196.88it/s]\n"
     ]
    }
   ],
   "source": [
    "samples, _ = sampling_fn(score_model)"
   ]
  },
  {
   "cell_type": "code",
   "execution_count": 44,
   "metadata": {},
   "outputs": [
    {
     "name": "stdout",
     "output_type": "stream",
     "text": [
      "predictor: none\n",
      "num_time_steps 1000\n",
      "corrector: langevin\n",
      "snr: 0.01\n",
      "n_steps_each: 1\n",
      "probability_flow: False\n",
      "noise_removal: True\n"
     ]
    },
    {
     "data": {
      "image/png": "[encoded data removed]",
      "text/plain": [
       "<Figure size 720x720 with 1 Axes>"
      ]
     },
     "metadata": {
      "needs_background": "light"
     },
     "output_type": "display_data"
    }
   ],
   "source": [
    "visualise_samples(samples)\n",
    "print_sampling_parameters(config)"
   ]
  },
  {
   "cell_type": "code",
   "execution_count": 7,
   "metadata": {},
   "outputs": [
    {
     "data": {
      "text/plain": [
       "<matplotlib.collections.PathCollection at 0x7fb8c00c1430>"
      ]
     },
     "execution_count": 7,
     "metadata": {},
     "output_type": "execute_result"
    },
    {
     "data": {
      "image/png": "[encoded data removed]",
      "text/plain": [
       "<Figure size 432x288 with 1 Axes>"
      ]
     },
     "metadata": {
      "needs_background": "light"
     },
     "output_type": "display_data"
    }
   ],
   "source": [
    "plt.scatter(dataset.data[:1000,0], dataset.data[:1000,1])"
   ]
  },
  {
   "cell_type": "code",
   "execution_count": null,
   "metadata": {},
   "outputs": [],
   "source": []
  }
 ],
 "metadata": {
  "interpreter": {
   "hash": "e04dfab5a735282f70189deb585c659c772ad01f2c1372ae95c30692776083a0"
  },
  "kernelspec": {
   "display_name": "Python 3.9.7 ('score_sde')",
   "language": "python",
   "name": "python3"
  },
  "language_info": {
   "codemirror_mode": {
    "name": "ipython",
    "version": 3
   },
   "file_extension": ".py",
   "mimetype": "text/x-python",
   "name": "python",
   "nbconvert_exporter": "python",
   "pygments_lexer": "ipython3",
   "version": "3.9.7"
  },
  "orig_nbformat": 4
 },
 "nbformat": 4,
 "nbformat_minor": 2
}
