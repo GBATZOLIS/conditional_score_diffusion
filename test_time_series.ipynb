{
 "cells": [
  {
   "cell_type": "code",
   "execution_count": 1,
   "metadata": {},
   "outputs": [],
   "source": [
    "# Import required modules\n",
    "import torch\n",
    "import numpy as np\n",
    "import sde_lib\n",
    "import matplotlib.pyplot as plt\n",
    "from vector_fields.vector_utils import  calculate_centers,curl\n",
    "from torch.distributions.multivariate_normal import MultivariateNormal\n",
    "from torch.distributions.mixture_same_family import MixtureSameFamily\n",
    "from torch.distributions.normal import Normal\n",
    "from torch.distributions.categorical import Categorical\n",
    "from torch.distributions.independent import Independent\n",
    "from lightning_data_modules.SyntheticTimeSeries import SyntheticTimeSeriesDataModule\n",
    "from lightning_data_modules.CryptoDataset import CryptoDataModule\n",
    "from lightning_modules.BaseSdeGenerativeModel import BaseSdeGenerativeModel\n",
    "from lightning_modules.ConservativeSdeGenerativeModel import ConservativeSdeGenerativeModel\n",
    "from lightning_modules.ConditionalSdeGenerativeModel import ConditionalSdeGenerativeModel\n",
    "from models.csdi import CSDI\n",
    "from models.utils import get_score_fn\n",
    "from models import utils as mutils\n",
    "from sampling.unconditional import get_sampling_fn\n",
    "from sampling.conditional import get_conditional_sampling_fn"
   ]
  },
  {
   "cell_type": "code",
   "execution_count": 2,
   "metadata": {},
   "outputs": [
    {
     "name": "stdout",
     "output_type": "stream",
     "text": [
      "model.sigma_max: 1.0000\n"
     ]
    }
   ],
   "source": [
    "from configs.jan.crypto.default import get_config\n",
    "config = get_config()"
   ]
  },
  {
   "cell_type": "code",
   "execution_count": 3,
   "metadata": {},
   "outputs": [],
   "source": [
    "data_m = CryptoDataModule(config)\n",
    "data_m.setup(stage=None)\n",
    "time_series_data = data_m"
   ]
  },
  {
   "cell_type": "code",
   "execution_count": 4,
   "metadata": {},
   "outputs": [],
   "source": [
    "ckpt_path = 'logs/crypto/btc_d_returns/checkpoints/best/last.ckpt'\n",
    "model = ConditionalSdeGenerativeModel.load_from_checkpoint(ckpt_path)\n",
    "score_model = model.score_model"
   ]
  },
  {
   "cell_type": "code",
   "execution_count": 5,
   "metadata": {},
   "outputs": [],
   "source": [
    "num_samples = 1          \n",
    "sde = sde_lib.cVESDE(sigma_min=config.model.sigma_min_x, sigma_max=config.model.sigma_max_x, N=config.model.num_scales, data_mean=None)\n",
    "sampling_eps = 1e-5\n",
    "sampling_shape = [num_samples] +  config.data.shape\n",
    "\n",
    "sampling_eps = 1e-3\n",
    "conditional_sampling_fn = get_conditional_sampling_fn(config=config, sde=sde, \n",
    "                                                        shape=sampling_shape, eps=sampling_eps,\n",
    "                                                        use_path=False)\n"
   ]
  },
  {
   "cell_type": "code",
   "execution_count": 6,
   "metadata": {},
   "outputs": [],
   "source": [
    "test_data_loader = data_m.test_dataloader()\n"
   ]
  },
  {
   "cell_type": "code",
   "execution_count": 7,
   "metadata": {},
   "outputs": [],
   "source": [
    "y, x = iter(test_data_loader).next()\n",
    "y['input'] = y['input'][0].unsqueeze(0)\n",
    "y['timesteps'] = y['timesteps'][0].unsqueeze(0)\n",
    "x = x[0].unsqueeze(0)"
   ]
  },
  {
   "cell_type": "code",
   "execution_count": 8,
   "metadata": {},
   "outputs": [
    {
     "name": "stderr",
     "output_type": "stream",
     "text": [
      "100%|██████████| 50/50 [00:00<00:00, 85.09it/s]\n"
     ]
    }
   ],
   "source": [
    "sample = conditional_sampling_fn(score_model, y=y)[0]"
   ]
  },
  {
   "cell_type": "code",
   "execution_count": 25,
   "metadata": {},
   "outputs": [],
   "source": [
    "def generate_forecast():\n",
    "    n=10\n",
    "    dt=1\n",
    "    cond_size = 30\n",
    "    pred_size = 1\n",
    "    times=y['timesteps'].squeeze(0)[:cond_size]\n",
    "    forecast=y['input'][0].unsqueeze(0)\n",
    "    for k in range(n):\n",
    "        t_past = times[-cond_size:]\n",
    "        t_next = torch.tensor([times[-1] + (i+1)*dt for i in range(pred_size)])\n",
    "        times = torch.cat([times, t_next])\n",
    "        y_next = {'input': forecast[:,-cond_size:,:], 'timesteps':torch.cat([t_past, t_next]).unsqueeze(0) }\n",
    "        sample = conditional_sampling_fn(score_model, y=y_next)[0]\n",
    "        forecast = torch.cat([forecast, sample], dim = 1)\n",
    "    return forecast\n"
   ]
  },
  {
   "cell_type": "code",
   "execution_count": 34,
   "metadata": {},
   "outputs": [
    {
     "name": "stderr",
     "output_type": "stream",
     "text": [
      "100%|██████████| 50/50 [00:00<00:00, 87.44it/s]\n",
      "100%|██████████| 50/50 [00:00<00:00, 95.06it/s]\n",
      "100%|██████████| 50/50 [00:00<00:00, 76.93it/s] \n",
      "100%|██████████| 50/50 [00:00<00:00, 54.33it/s]\n",
      "100%|██████████| 50/50 [00:00<00:00, 73.01it/s]\n",
      "100%|██████████| 50/50 [00:00<00:00, 68.25it/s]\n",
      "100%|██████████| 50/50 [00:00<00:00, 81.70it/s]\n",
      "100%|██████████| 50/50 [00:00<00:00, 71.38it/s]\n",
      "100%|██████████| 50/50 [00:00<00:00, 66.18it/s]\n",
      "100%|██████████| 50/50 [00:00<00:00, 93.37it/s]\n",
      "100%|██████████| 50/50 [00:00<00:00, 96.55it/s] \n",
      "100%|██████████| 50/50 [00:00<00:00, 98.34it/s] \n",
      "100%|██████████| 50/50 [00:00<00:00, 93.08it/s]\n",
      "100%|██████████| 50/50 [00:00<00:00, 91.49it/s]\n",
      "100%|██████████| 50/50 [00:00<00:00, 88.06it/s]\n",
      "100%|██████████| 50/50 [00:00<00:00, 87.97it/s]\n",
      "100%|██████████| 50/50 [00:00<00:00, 99.40it/s] \n",
      "100%|██████████| 50/50 [00:00<00:00, 67.92it/s]\n",
      "100%|██████████| 50/50 [00:00<00:00, 60.30it/s]\n",
      "100%|██████████| 50/50 [00:01<00:00, 47.81it/s]\n",
      "100%|██████████| 50/50 [00:00<00:00, 69.17it/s]\n",
      "100%|██████████| 50/50 [00:00<00:00, 77.89it/s]\n",
      "100%|██████████| 50/50 [00:00<00:00, 67.90it/s]\n",
      "100%|██████████| 50/50 [00:00<00:00, 88.23it/s]\n",
      "100%|██████████| 50/50 [00:00<00:00, 97.19it/s]\n",
      "100%|██████████| 50/50 [00:00<00:00, 95.01it/s]\n",
      "100%|██████████| 50/50 [00:00<00:00, 98.27it/s] \n",
      "100%|██████████| 50/50 [00:00<00:00, 95.79it/s]\n",
      "100%|██████████| 50/50 [00:00<00:00, 97.26it/s] \n",
      "100%|██████████| 50/50 [00:00<00:00, 91.17it/s]\n",
      "100%|██████████| 50/50 [00:00<00:00, 97.06it/s]\n",
      "100%|██████████| 50/50 [00:00<00:00, 80.60it/s]\n",
      "100%|██████████| 50/50 [00:00<00:00, 80.44it/s]\n",
      "100%|██████████| 50/50 [00:00<00:00, 73.33it/s]\n",
      "100%|██████████| 50/50 [00:00<00:00, 76.28it/s]\n",
      "100%|██████████| 50/50 [00:00<00:00, 70.29it/s]\n",
      "100%|██████████| 50/50 [00:00<00:00, 80.77it/s]\n",
      "100%|██████████| 50/50 [00:00<00:00, 80.37it/s]\n",
      "100%|██████████| 50/50 [00:00<00:00, 93.09it/s]\n",
      "100%|██████████| 50/50 [00:00<00:00, 93.20it/s] \n",
      "100%|██████████| 50/50 [00:00<00:00, 96.10it/s] \n",
      "100%|██████████| 50/50 [00:00<00:00, 89.24it/s]\n",
      "100%|██████████| 50/50 [00:00<00:00, 96.49it/s]\n",
      "100%|██████████| 50/50 [00:00<00:00, 97.51it/s]\n",
      "100%|██████████| 50/50 [00:00<00:00, 94.49it/s] \n",
      "100%|██████████| 50/50 [00:00<00:00, 93.96it/s] \n",
      "100%|██████████| 50/50 [00:00<00:00, 103.91it/s]\n",
      "100%|██████████| 50/50 [00:00<00:00, 59.99it/s]\n",
      "100%|██████████| 50/50 [00:00<00:00, 80.86it/s]\n",
      "100%|██████████| 50/50 [00:00<00:00, 88.78it/s]\n",
      "100%|██████████| 50/50 [00:00<00:00, 67.44it/s]\n",
      "100%|██████████| 50/50 [00:00<00:00, 72.87it/s]\n",
      "100%|██████████| 50/50 [00:00<00:00, 85.31it/s]\n",
      "100%|██████████| 50/50 [00:00<00:00, 82.88it/s]\n",
      "100%|██████████| 50/50 [00:00<00:00, 99.36it/s]\n",
      "100%|██████████| 50/50 [00:00<00:00, 95.59it/s] \n",
      "100%|██████████| 50/50 [00:00<00:00, 93.16it/s]\n",
      "100%|██████████| 50/50 [00:00<00:00, 95.38it/s] \n",
      "100%|██████████| 50/50 [00:00<00:00, 102.02it/s]\n",
      "100%|██████████| 50/50 [00:00<00:00, 95.32it/s]\n",
      "100%|██████████| 50/50 [00:00<00:00, 93.19it/s]\n",
      "100%|██████████| 50/50 [00:00<00:00, 99.13it/s] \n",
      "100%|██████████| 50/50 [00:00<00:00, 75.93it/s]\n",
      "100%|██████████| 50/50 [00:00<00:00, 71.59it/s]\n",
      "100%|██████████| 50/50 [00:00<00:00, 58.10it/s]\n",
      "100%|██████████| 50/50 [00:00<00:00, 66.86it/s]\n",
      "100%|██████████| 50/50 [00:00<00:00, 61.68it/s]\n",
      "100%|██████████| 50/50 [00:00<00:00, 55.55it/s]\n",
      "100%|██████████| 50/50 [00:00<00:00, 77.13it/s]\n",
      "100%|██████████| 50/50 [00:00<00:00, 100.61it/s]\n",
      "100%|██████████| 50/50 [00:00<00:00, 99.55it/s] \n",
      "100%|██████████| 50/50 [00:00<00:00, 95.56it/s]\n",
      "100%|██████████| 50/50 [00:00<00:00, 78.21it/s]\n",
      "100%|██████████| 50/50 [00:00<00:00, 89.79it/s] \n",
      "100%|██████████| 50/50 [00:00<00:00, 77.04it/s]\n",
      "100%|██████████| 50/50 [00:00<00:00, 77.28it/s]\n",
      "100%|██████████| 50/50 [00:00<00:00, 85.00it/s]\n",
      "100%|██████████| 50/50 [00:00<00:00, 72.38it/s]\n",
      "100%|██████████| 50/50 [00:00<00:00, 86.44it/s]\n",
      "100%|██████████| 50/50 [00:00<00:00, 72.45it/s]\n",
      "100%|██████████| 50/50 [00:00<00:00, 70.01it/s]\n",
      "100%|██████████| 50/50 [00:00<00:00, 73.11it/s]\n",
      "100%|██████████| 50/50 [00:00<00:00, 84.13it/s]\n",
      "100%|██████████| 50/50 [00:00<00:00, 90.38it/s]\n",
      "100%|██████████| 50/50 [00:00<00:00, 97.83it/s]\n",
      "100%|██████████| 50/50 [00:00<00:00, 97.62it/s] \n",
      "100%|██████████| 50/50 [00:00<00:00, 99.95it/s] \n",
      "100%|██████████| 50/50 [00:00<00:00, 85.00it/s]\n",
      "100%|██████████| 50/50 [00:00<00:00, 98.31it/s] \n",
      "100%|██████████| 50/50 [00:00<00:00, 92.32it/s]\n",
      "100%|██████████| 50/50 [00:00<00:00, 98.23it/s] \n",
      "100%|██████████| 50/50 [00:00<00:00, 96.40it/s] \n",
      "100%|██████████| 50/50 [00:00<00:00, 79.75it/s]\n",
      "100%|██████████| 50/50 [00:00<00:00, 63.58it/s]\n",
      "100%|██████████| 50/50 [00:00<00:00, 76.79it/s]\n",
      "100%|██████████| 50/50 [00:00<00:00, 69.38it/s]\n",
      "100%|██████████| 50/50 [00:00<00:00, 78.31it/s]\n",
      "100%|██████████| 50/50 [00:00<00:00, 83.03it/s]\n",
      "100%|██████████| 50/50 [00:00<00:00, 73.22it/s]\n",
      "100%|██████████| 50/50 [00:00<00:00, 96.40it/s]\n"
     ]
    }
   ],
   "source": [
    "fs=[]\n",
    "for i in range(10):\n",
    "    fs.append(generate_forecast())"
   ]
  },
  {
   "cell_type": "code",
   "execution_count": 35,
   "metadata": {},
   "outputs": [],
   "source": [
    "forecast = torch.stack(fs).mean(dim=0)\n"
   ]
  },
  {
   "cell_type": "code",
   "execution_count": 36,
   "metadata": {},
   "outputs": [
    {
     "data": {
      "image/png": "[encoded data removed]",
      "text/plain": [
       "<Figure size 432x288 with 1 Axes>"
      ]
     },
     "metadata": {
      "needs_background": "light"
     },
     "output_type": "display_data"
    }
   ],
   "source": [
    "vals=forecast.squeeze()\n",
    "plt.plot(times[:cond_size], vals[:cond_size], label='past')\n",
    "plt.plot(times[cond_size:], vals[cond_size:], label='forecast')\n",
    "plt.legend()\n",
    "#plt.ylim(0,2)\n",
    "plt.grid()"
   ]
  }
 ],
 "metadata": {
  "interpreter": {
   "hash": "e04dfab5a735282f70189deb585c659c772ad01f2c1372ae95c30692776083a0"
  },
  "kernelspec": {
   "display_name": "Python 3.9.7 ('score_sde')",
   "language": "python",
   "name": "python3"
  },
  "language_info": {
   "codemirror_mode": {
    "name": "ipython",
    "version": 3
   },
   "file_extension": ".py",
   "mimetype": "text/x-python",
   "name": "python",
   "nbconvert_exporter": "python",
   "pygments_lexer": "ipython3",
   "version": "3.9.7"
  },
  "orig_nbformat": 4
 },
 "nbformat": 4,
 "nbformat_minor": 2
}
