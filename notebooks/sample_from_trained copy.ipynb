{
 "cells": [
  {
   "cell_type": "code",
   "execution_count": 1,
   "metadata": {},
   "outputs": [],
   "source": [
    "import torch\n",
    "import numpy as np\n",
    "import matplotlib.pyplot as plt\n",
    "from lightning_modules.BaseSdeGenerativeModel import BaseSdeGenerativeModel\n",
    "import pickle\n",
    "import sde_lib"
   ]
  },
  {
   "cell_type": "code",
   "execution_count": 2,
   "metadata": {},
   "outputs": [],
   "source": [
    "#log_path ='logs/ksphere/dim_10/n_1/'\n",
    "#log_name = 've'\n",
    "dim = 10\n",
    "n_spheres = 2\n",
    "\n",
    "log_path =f'logs/ksphere/dim_{dim}/n_{n_spheres}/'\n",
    "#log_name = 've_sig_0.01_4.0'\n",
    "#log_name = 've_big_sig_0.01_4.0'\n",
    "log_name = 'big_sig_0.01_4.0'\n",
    "\n",
    "config_path = log_path + log_name + '/config.pkl'\n",
    "with open(config_path, 'rb') as file:\n",
    "    config = pickle.load(file)\n",
    "config.model.checkpoint_path = log_path  + log_name + \"/checkpoints/best/last.ckpt\"\n",
    "config.logging.log_path = log_path\n",
    "config.logging.log_name = log_name\n",
    "\n",
    "config.device = torch.device('cuda:0') if torch.cuda.is_available() else torch.device('cpu')"
   ]
  },
  {
   "cell_type": "code",
   "execution_count": 12,
   "metadata": {},
   "outputs": [],
   "source": [
    "def sample(config):\n",
    "    from sampling.unconditional import get_sampling_fn\n",
    "    ckpt_path = config.model.checkpoint_path\n",
    "    pl_module = BaseSdeGenerativeModel.load_from_checkpoint(ckpt_path)\n",
    "    score_model = pl_module.score_model\n",
    "    pl_module.configure_sde(config)\n",
    "    pl_module = pl_module.eval()\n",
    "\n",
    "    num_samples = 1000   \n",
    "    sde = sde_lib.VESDE(sigma_min=config.model.sigma_min, sigma_max=config.model.sigma_max, N=config.model.num_scales, data_mean=None) #pl_module.sde\n",
    "    sampling_eps = 1e-5\n",
    "    sampling_shape = [num_samples] +  config.data.shape\n",
    "    sampling_fn = get_sampling_fn(config, sde, sampling_shape, sampling_eps)\n",
    "    score_model = pl_module.score_model\n",
    "    samples, _ = sampling_fn(score_model)#, show_evolution=False)\n",
    "    return samples"
   ]
  },
  {
   "cell_type": "code",
   "execution_count": 13,
   "metadata": {},
   "outputs": [
    {
     "name": "stderr",
     "output_type": "stream",
     "text": [
      "100%|██████████| 1000/1000 [02:13<00:00,  7.47it/s]\n"
     ]
    }
   ],
   "source": [
    "samples = sample(config)"
   ]
  },
  {
   "cell_type": "code",
   "execution_count": 14,
   "metadata": {},
   "outputs": [
    {
     "name": "stdout",
     "output_type": "stream",
     "text": [
      "0.395069420337677\n",
      "1.8412175178527832\n",
      "0.9693791270256042\n"
     ]
    }
   ],
   "source": [
    "print(torch.linalg.norm(samples, dim=1).min().item())\n",
    "print(torch.linalg.norm(samples, dim=1).max().item())\n",
    "print(torch.linalg.norm(samples, dim=1).mean().item())"
   ]
  },
  {
   "cell_type": "code",
   "execution_count": 15,
   "metadata": {},
   "outputs": [
    {
     "data": {
      "image/png": "[encoded data removed]",
      "text/plain": [
       "<Figure size 432x288 with 1 Axes>"
      ]
     },
     "metadata": {
      "needs_background": "light"
     },
     "output_type": "display_data"
    }
   ],
   "source": [
    "norms=torch.linalg.norm(samples, dim=1).numpy()\n",
    "plt.hist(norms, bins=50)\n",
    "plt.show()"
   ]
  },
  {
   "cell_type": "code",
   "execution_count": 4,
   "metadata": {},
   "outputs": [],
   "source": [
    "from run_lib import get_manifold_dimension"
   ]
  },
  {
   "cell_type": "code",
   "execution_count": 5,
   "metadata": {},
   "outputs": [
    {
     "name": "stderr",
     "output_type": "stream",
     "text": [
      "119it [03:23,  1.71s/it]\n"
     ]
    }
   ],
   "source": [
    "get_manifold_dimension(config)"
   ]
  },
  {
   "cell_type": "code",
   "execution_count": 6,
   "metadata": {},
   "outputs": [],
   "source": [
    "path = log_path + log_name + '/svd.pkl'\n",
    "with open(path, 'rb') as f:\n",
    "    svd = pickle.load(f)"
   ]
  },
  {
   "cell_type": "code",
   "execution_count": 7,
   "metadata": {},
   "outputs": [],
   "source": [
    "singular_values = svd['singular_values']"
   ]
  },
  {
   "cell_type": "code",
   "execution_count": 8,
   "metadata": {},
   "outputs": [],
   "source": [
    "normalized_scores = svd['normalized_scores']"
   ]
  },
  {
   "cell_type": "code",
   "execution_count": 9,
   "metadata": {},
   "outputs": [],
   "source": [
    "eigen_vals = (np.array(singular_values)**2).mean(axis=0)"
   ]
  },
  {
   "cell_type": "code",
   "execution_count": 16,
   "metadata": {},
   "outputs": [
    {
     "data": {
      "image/png": "[encoded data removed]",
      "text/plain": [
       "<Figure size 432x288 with 1 Axes>"
      ]
     },
     "metadata": {
      "needs_background": "light"
     },
     "output_type": "display_data"
    }
   ],
   "source": [
    "sing_vals = (np.array(singular_values)).mean(axis=0)\n",
    "plt.bar(list(range(len(sing_vals))),sing_vals)\n",
    "plt.show()"
   ]
  },
  {
   "cell_type": "code",
   "execution_count": 27,
   "metadata": {},
   "outputs": [
    {
     "data": {
      "text/plain": [
       "PCA(n_components='mle')"
      ]
     },
     "execution_count": 27,
     "metadata": {},
     "output_type": "execute_result"
    }
   ],
   "source": [
    "from sklearn.decomposition import PCA\n",
    "pca = PCA(n_components='mle')\n",
    "pca.fit(normalized_scores.numpy())"
   ]
  },
  {
   "cell_type": "code",
   "execution_count": 28,
   "metadata": {},
   "outputs": [
    {
     "data": {
      "text/plain": [
       "99"
      ]
     },
     "execution_count": 28,
     "metadata": {},
     "output_type": "execute_result"
    }
   ],
   "source": [
    "pca.n_components_"
   ]
  },
  {
   "cell_type": "code",
   "execution_count": 29,
   "metadata": {},
   "outputs": [],
   "source": [
    "u, s, v = np.linalg.svd(normalized_scores.numpy())"
   ]
  },
  {
   "cell_type": "code",
   "execution_count": 31,
   "metadata": {},
   "outputs": [
    {
     "data": {
      "text/plain": [
       "<BarContainer object of 30 artists>"
      ]
     },
     "execution_count": 31,
     "metadata": {},
     "output_type": "execute_result"
    },
    {
     "data": {
      "image/png": "[encoded data removed]",
      "text/plain": [
       "<Figure size 432x288 with 1 Axes>"
      ]
     },
     "metadata": {
      "needs_background": "light"
     },
     "output_type": "display_data"
    }
   ],
   "source": [
    "s=s[-30:]\n",
    "plt.bar(range(len(s)),s)"
   ]
  },
  {
   "cell_type": "code",
   "execution_count": null,
   "metadata": {},
   "outputs": [],
   "source": []
  },
  {
   "cell_type": "code",
   "execution_count": null,
   "metadata": {},
   "outputs": [],
   "source": []
  }
 ],
 "metadata": {
  "kernelspec": {
   "display_name": "Python 3.9.7 ('score_sde')",
   "language": "python",
   "name": "python3"
  },
  "language_info": {
   "codemirror_mode": {
    "name": "ipython",
    "version": 3
   },
   "file_extension": ".py",
   "mimetype": "text/x-python",
   "name": "python",
   "nbconvert_exporter": "python",
   "pygments_lexer": "ipython3",
   "version": "3.9.7"
  },
  "orig_nbformat": 4,
  "vscode": {
   "interpreter": {
    "hash": "2c163f384f13400461e75fa0c1e3ff8147dc43b3b192ad8858a0755f1420386d"
   }
  }
 },
 "nbformat": 4,
 "nbformat_minor": 2
}
