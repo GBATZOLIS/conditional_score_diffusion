{
 "cells": [
  {
   "cell_type": "code",
   "execution_count": 1,
   "metadata": {},
   "outputs": [
    {
     "name": "stdout",
     "output_type": "stream",
     "text": [
      "Moving cwd to /rds/user/js2164/hpc-work/repos/score_sde_pytorch\n"
     ]
    }
   ],
   "source": [
    "import nb_utils"
   ]
  },
  {
   "cell_type": "code",
   "execution_count": 2,
   "metadata": {},
   "outputs": [],
   "source": [
    "import run_lib\n",
    "from lightning_modules.BaseSdeGenerativeModel import BaseSdeGenerativeModel\n",
    "ckpt_path = 'logs/gaussian_bubbles/fokker_planck/vanilla/checkpoints/best/last.ckpt'\n",
    "pl_module = BaseSdeGenerativeModel.load_from_checkpoint(ckpt_path)"
   ]
  },
  {
   "cell_type": "code",
   "execution_count": 5,
   "metadata": {},
   "outputs": [],
   "source": [
    "import torch\n",
    "pl_module.eval()\n",
    "model = pl_module.score_model\n",
    "torch.save(model.state_dict(), '/home/js2164/rds/hpc-work/repos/score_sde_pytorch/model.pt')"
   ]
  },
  {
   "cell_type": "code",
   "execution_count": 7,
   "metadata": {},
   "outputs": [
    {
     "data": {
      "text/plain": [
       "data:\n",
       "  create_dataset: false\n",
       "  data_samples: 50000\n",
       "  datamodule: Synthetic\n",
       "  dataset_type: GaussianBubbles\n",
       "  dim: 2\n",
       "  factor: 0.5\n",
       "  mixtures: 4\n",
       "  num_channels: 0\n",
       "  return_labels: false\n",
       "  shape:\n",
       "  - 2\n",
       "  split:\n",
       "  - 0.8\n",
       "  - 0.1\n",
       "  - 0.1\n",
       "  std: 0.2\n",
       "  use_data_mean: false\n",
       "device: !!python/object/apply:torch.device\n",
       "- cuda\n",
       "- 0\n",
       "eval:\n",
       "  batch_size: 512\n",
       "  begin_ckpt: 50\n",
       "  bpd_dataset: test\n",
       "  callback: null\n",
       "  enable_bpd: false\n",
       "  enable_loss: true\n",
       "  enable_sampling: true\n",
       "  end_ckpt: 96\n",
       "  num_samples: 50000\n",
       "  workers: 4\n",
       "logging:\n",
       "  envery_timedelta: !!python/object/apply:datetime.timedelta\n",
       "  - 0\n",
       "  - 60\n",
       "  - 0\n",
       "  every_n_epochs: 1000\n",
       "  log_name: vanilla\n",
       "  log_path: logs/gaussian_bubbles/fokker_planck/\n",
       "  top_k: 5\n",
       "model:\n",
       "  beta_max: 25\n",
       "  beta_min: 0.1\n",
       "  checkpoint_path: null\n",
       "  dropout: 0.0\n",
       "  ema_rate: 0.9999\n",
       "  hidden_layers: 3\n",
       "  hidden_nodes: 256\n",
       "  name: fcn\n",
       "  num_scales: 1000\n",
       "  scale_by_sigma: false\n",
       "  sigma_max: 4\n",
       "  sigma_min: 0.01\n",
       "  state_size: 2\n",
       "optim:\n",
       "  beta1: 0.9\n",
       "  eps: 1.0e-08\n",
       "  grad_clip: 1.0\n",
       "  lr: 2.0e-05\n",
       "  optimizer: Adam\n",
       "  warmup: 5000\n",
       "  weight_decay: 0\n",
       "sampling:\n",
       "  corrector: none\n",
       "  method: pc\n",
       "  n_steps_each: 1\n",
       "  noise_removal: true\n",
       "  predictor: reverse_diffusion\n",
       "  probability_flow: false\n",
       "  snr: 0.075\n",
       "seed: 42\n",
       "training:\n",
       "  accelerator: null\n",
       "  accumulate_grad_batches: 1\n",
       "  alpha: 0\n",
       "  alpha_max: 0.01\n",
       "  alpha_min: 0.0001\n",
       "  batch_size: 500\n",
       "  continuous: true\n",
       "  eval_freq: 2500\n",
       "  gpus: 1\n",
       "  hutchinson: false\n",
       "  lightning_module: base\n",
       "  likelihood_weighting: true\n",
       "  log_freq: 50\n",
       "  n_chunks: 50\n",
       "  n_iters: 100000000000000000000\n",
       "  num_epochs: 20000\n",
       "  num_nodes: 1\n",
       "  plot_ode: true\n",
       "  reduce_mean: false\n",
       "  schedule: constant\n",
       "  sde: vesde\n",
       "  show_evolution: true\n",
       "  snapshot_freq: 5000\n",
       "  snapshot_freq_for_preemption: 5000\n",
       "  snapshot_sampling: true\n",
       "  visualization_callback:\n",
       "  - 2DSamplesVisualization\n",
       "  - 2DVectorFieldVisualization\n",
       "  workers: 4\n",
       "validation:\n",
       "  batch_size: 500\n",
       "  workers: 4"
      ]
     },
     "execution_count": 7,
     "metadata": {},
     "output_type": "execute_result"
    }
   ],
   "source": [
    "import pickle\n",
    "path = '/home/js2164/rds/hpc-work/repos/score_sde_pytorch/logs/gaussian_bubbles/fokker_planck/vanilla/config.pkl'\n",
    "with open(path, 'rb') as f:\n",
    "    config = pickle.load(f)\n",
    "config"
   ]
  }
 ],
 "metadata": {
  "kernelspec": {
   "display_name": "score_sde",
   "language": "python",
   "name": "python3"
  },
  "language_info": {
   "codemirror_mode": {
    "name": "ipython",
    "version": 3
   },
   "file_extension": ".py",
   "mimetype": "text/x-python",
   "name": "python",
   "nbconvert_exporter": "python",
   "pygments_lexer": "ipython3",
   "version": "3.9.0"
  },
  "orig_nbformat": 4,
  "vscode": {
   "interpreter": {
    "hash": "e04dfab5a735282f70189deb585c659c772ad01f2c1372ae95c30692776083a0"
   }
  }
 },
 "nbformat": 4,
 "nbformat_minor": 2
}
