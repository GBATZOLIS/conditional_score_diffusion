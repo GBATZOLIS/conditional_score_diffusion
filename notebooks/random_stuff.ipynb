{
 "cells": [
  {
   "cell_type": "code",
   "execution_count": 1,
   "metadata": {},
   "outputs": [
    {
     "name": "stdout",
     "output_type": "stream",
     "text": [
      "Moving cwd to /store/CIA/js2164/repos/diffusion/score_sde_pytorch\n"
     ]
    }
   ],
   "source": [
    "import nb_utils"
   ]
  },
  {
   "cell_type": "code",
   "execution_count": 3,
   "metadata": {},
   "outputs": [
    {
     "data": {
      "text/plain": [
       "['alice', 'likes', 'bob']"
      ]
     },
     "execution_count": 3,
     "metadata": {},
     "output_type": "execute_result"
    }
   ],
   "source": [
    "'alice,likes,bob'.split(',')"
   ]
  },
  {
   "cell_type": "code",
   "execution_count": 4,
   "metadata": {},
   "outputs": [
    {
     "data": {
      "text/plain": [
       "{0, 1}"
      ]
     },
     "execution_count": 4,
     "metadata": {},
     "output_type": "execute_result"
    }
   ],
   "source": [
    "set([0,1,0])"
   ]
  },
  {
   "cell_type": "code",
   "execution_count": 5,
   "metadata": {},
   "outputs": [],
   "source": [
    "s1=[[0],[1],[0],[1]]\n",
    "s2=[[0],[0],[1],[1]]"
   ]
  },
  {
   "cell_type": "code",
   "execution_count": 34,
   "metadata": {},
   "outputs": [],
   "source": [
    "uniqe_elements1 = {key:0 for key in set(str(x) for x in s1)}\n",
    "uniqe_elements2 = {key:0 for key in set(str(x) for x in s2)}\n",
    "unique_pairs = {key:0 for key in set([str(k) for k in zip(s1,s2)])}"
   ]
  },
  {
   "cell_type": "code",
   "execution_count": 35,
   "metadata": {},
   "outputs": [],
   "source": [
    "for i in range(len(s1)):\n",
    "    el1 = str(s1[i])\n",
    "    el2 = str(s2[i])\n",
    "    if el1 in uniqe_elements1:\n",
    "        uniqe_elements1[el1] += 1\n",
    "    if el2 in uniqe_elements2:\n",
    "        uniqe_elements2[el2] += 1\n",
    "    pair = str((s1[i], s2[i]))\n",
    "    if pair in unique_pairs:\n",
    "        unique_pairs[pair] += 1"
   ]
  },
  {
   "cell_type": "code",
   "execution_count": 38,
   "metadata": {},
   "outputs": [
    {
     "name": "stdout",
     "output_type": "stream",
     "text": [
      "{'[0]': 2, '[1]': 2}\n",
      "{'[0]': 2, '[1]': 2}\n",
      "{'([1], [0])': 1, '([0], [1])': 1, '([0], [0])': 1, '([1], [1])': 1}\n"
     ]
    }
   ],
   "source": [
    "print(uniqe_elements1)\n",
    "print(uniqe_elements2)\n",
    "print(unique_pairs)"
   ]
  },
  {
   "cell_type": "code",
   "execution_count": 40,
   "metadata": {},
   "outputs": [],
   "source": [
    "import math"
   ]
  },
  {
   "cell_type": "code",
   "execution_count": 41,
   "metadata": {},
   "outputs": [
    {
     "data": {
      "text/plain": [
       "1.0"
      ]
     },
     "execution_count": 41,
     "metadata": {},
     "output_type": "execute_result"
    }
   ],
   "source": [
    "math.log2(2)"
   ]
  }
 ],
 "metadata": {
  "kernelspec": {
   "display_name": "score_sde",
   "language": "python",
   "name": "python3"
  },
  "language_info": {
   "codemirror_mode": {
    "name": "ipython",
    "version": 3
   },
   "file_extension": ".py",
   "mimetype": "text/x-python",
   "name": "python",
   "nbconvert_exporter": "python",
   "pygments_lexer": "ipython3",
   "version": "3.9.7"
  },
  "orig_nbformat": 4,
  "vscode": {
   "interpreter": {
    "hash": "e04dfab5a735282f70189deb585c659c772ad01f2c1372ae95c30692776083a0"
   }
  }
 },
 "nbformat": 4,
 "nbformat_minor": 2
}
