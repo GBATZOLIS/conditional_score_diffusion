{
 "cells": [
  {
   "cell_type": "code",
   "execution_count": 1,
   "metadata": {},
   "outputs": [],
   "source": [
    "import nb_utils"
   ]
  },
  {
   "cell_type": "code",
   "execution_count": 2,
   "metadata": {},
   "outputs": [],
   "source": [
    "import torch\n",
    "import numpy as np\n",
    "import pandas as pd\n",
    "import pickle\n",
    "from matplotlib import pyplot as plt\n",
    "from mle import bootstrap_intrinsic_dim_scale_interval as mle"
   ]
  },
  {
   "cell_type": "code",
   "execution_count": 3,
   "metadata": {},
   "outputs": [],
   "source": [
    "#Import R packages\n",
    "import rpy2\n",
    "import rpy2.robjects as ro\n",
    "from rpy2.robjects import pandas2ri\n",
    "pandas2ri.activate()\n",
    "\n",
    "from rpy2.robjects.packages import importr\n",
    "r_base = importr('base')\n",
    "intdimr = importr('intrinsicDimension')"
   ]
  },
  {
   "cell_type": "code",
   "execution_count": 148,
   "metadata": {},
   "outputs": [],
   "source": [
    "from lightning_data_modules import HaarDecomposedDataset, ImageDatasets, PairedDataset, SyntheticDataset, SyntheticPairedDataset, Synthetic1DConditionalDataset, SyntheticTimeSeries, SRDataset, SRFLOWDataset, CryptoDataset, KSphereDataset, MammothDataset, LineDataset\n",
    "\n",
    "#from configs.mammoth.vesde import get_config\n",
    "#from configs.ksphere.N_1.uniform import get_config\n",
    "#from configs.line.vesde import get_config\n",
    "from configs.ksphere.N_1.non_uniform_1 import get_config\n",
    "#from configs.ksphere.N_1.non_uniform_075 import get_config\n",
    "#from configs.ksphere.N_1.non_uniform_05 import get_config\n",
    "\n",
    "config = get_config()"
   ]
  },
  {
   "cell_type": "code",
   "execution_count": 149,
   "metadata": {},
   "outputs": [],
   "source": [
    "from lightning_data_modules.utils import create_lightning_datamodule\n",
    "DataModule = create_lightning_datamodule(config)\n",
    "DataModule.setup()\n",
    "train_dataloader = DataModule.train_dataloader()"
   ]
  },
  {
   "cell_type": "code",
   "execution_count": 150,
   "metadata": {},
   "outputs": [],
   "source": [
    "X=[]\n",
    "for _, x in enumerate(train_dataloader):\n",
    "    X.append(x)\n",
    "X = torch.cat(X, dim=0).numpy()\n",
    "X = pd.DataFrame(X)"
   ]
  },
  {
   "cell_type": "code",
   "execution_count": 151,
   "metadata": {},
   "outputs": [
    {
     "name": "stdout",
     "output_type": "stream",
     "text": [
      "(40000, 100)\n"
     ]
    },
    {
     "data": {
      "text/html": [
       "<div>\n",
       "<style scoped>\n",
       "    .dataframe tbody tr th:only-of-type {\n",
       "        vertical-align: middle;\n",
       "    }\n",
       "\n",
       "    .dataframe tbody tr th {\n",
       "        vertical-align: top;\n",
       "    }\n",
       "\n",
       "    .dataframe thead th {\n",
       "        text-align: right;\n",
       "    }\n",
       "</style>\n",
       "<table border=\"1\" class=\"dataframe\">\n",
       "  <thead>\n",
       "    <tr style=\"text-align: right;\">\n",
       "      <th></th>\n",
       "      <th>0</th>\n",
       "      <th>1</th>\n",
       "      <th>2</th>\n",
       "      <th>3</th>\n",
       "      <th>4</th>\n",
       "      <th>5</th>\n",
       "      <th>6</th>\n",
       "      <th>7</th>\n",
       "      <th>8</th>\n",
       "      <th>9</th>\n",
       "      <th>...</th>\n",
       "      <th>90</th>\n",
       "      <th>91</th>\n",
       "      <th>92</th>\n",
       "      <th>93</th>\n",
       "      <th>94</th>\n",
       "      <th>95</th>\n",
       "      <th>96</th>\n",
       "      <th>97</th>\n",
       "      <th>98</th>\n",
       "      <th>99</th>\n",
       "    </tr>\n",
       "  </thead>\n",
       "  <tbody>\n",
       "    <tr>\n",
       "      <th>0</th>\n",
       "      <td>-0.091895</td>\n",
       "      <td>0.063149</td>\n",
       "      <td>-0.057836</td>\n",
       "      <td>0.009851</td>\n",
       "      <td>-0.051552</td>\n",
       "      <td>-0.117169</td>\n",
       "      <td>0.000009</td>\n",
       "      <td>0.092844</td>\n",
       "      <td>-0.054788</td>\n",
       "      <td>0.086325</td>\n",
       "      <td>...</td>\n",
       "      <td>-0.013538</td>\n",
       "      <td>0.063213</td>\n",
       "      <td>0.052811</td>\n",
       "      <td>-0.100079</td>\n",
       "      <td>0.048334</td>\n",
       "      <td>0.063131</td>\n",
       "      <td>-0.146685</td>\n",
       "      <td>0.008719</td>\n",
       "      <td>0.077223</td>\n",
       "      <td>-0.141876</td>\n",
       "    </tr>\n",
       "    <tr>\n",
       "      <th>1</th>\n",
       "      <td>-0.155574</td>\n",
       "      <td>0.043521</td>\n",
       "      <td>0.054153</td>\n",
       "      <td>-0.016723</td>\n",
       "      <td>0.134282</td>\n",
       "      <td>-0.061614</td>\n",
       "      <td>0.125422</td>\n",
       "      <td>0.109618</td>\n",
       "      <td>0.048618</td>\n",
       "      <td>-0.074640</td>\n",
       "      <td>...</td>\n",
       "      <td>-0.069378</td>\n",
       "      <td>0.060734</td>\n",
       "      <td>0.049249</td>\n",
       "      <td>-0.201172</td>\n",
       "      <td>-0.025436</td>\n",
       "      <td>0.139699</td>\n",
       "      <td>-0.057406</td>\n",
       "      <td>-0.026968</td>\n",
       "      <td>-0.106947</td>\n",
       "      <td>-0.049060</td>\n",
       "    </tr>\n",
       "    <tr>\n",
       "      <th>2</th>\n",
       "      <td>-0.029920</td>\n",
       "      <td>-0.064131</td>\n",
       "      <td>-0.143349</td>\n",
       "      <td>0.001694</td>\n",
       "      <td>0.058575</td>\n",
       "      <td>0.015757</td>\n",
       "      <td>0.171826</td>\n",
       "      <td>0.057257</td>\n",
       "      <td>0.023520</td>\n",
       "      <td>0.237250</td>\n",
       "      <td>...</td>\n",
       "      <td>0.029356</td>\n",
       "      <td>-0.009491</td>\n",
       "      <td>-0.000153</td>\n",
       "      <td>-0.147717</td>\n",
       "      <td>0.027601</td>\n",
       "      <td>0.083605</td>\n",
       "      <td>0.077628</td>\n",
       "      <td>0.166580</td>\n",
       "      <td>0.047118</td>\n",
       "      <td>-0.117942</td>\n",
       "    </tr>\n",
       "    <tr>\n",
       "      <th>3</th>\n",
       "      <td>0.082422</td>\n",
       "      <td>-0.004682</td>\n",
       "      <td>-0.163978</td>\n",
       "      <td>0.054701</td>\n",
       "      <td>-0.202720</td>\n",
       "      <td>0.045587</td>\n",
       "      <td>-0.019879</td>\n",
       "      <td>-0.006567</td>\n",
       "      <td>-0.169330</td>\n",
       "      <td>0.218598</td>\n",
       "      <td>...</td>\n",
       "      <td>0.076120</td>\n",
       "      <td>0.027204</td>\n",
       "      <td>-0.020368</td>\n",
       "      <td>0.069578</td>\n",
       "      <td>0.091084</td>\n",
       "      <td>-0.112655</td>\n",
       "      <td>-0.002900</td>\n",
       "      <td>0.035211</td>\n",
       "      <td>0.132046</td>\n",
       "      <td>-0.053046</td>\n",
       "    </tr>\n",
       "    <tr>\n",
       "      <th>4</th>\n",
       "      <td>0.054473</td>\n",
       "      <td>-0.035465</td>\n",
       "      <td>-0.180297</td>\n",
       "      <td>0.030449</td>\n",
       "      <td>-0.116978</td>\n",
       "      <td>-0.011708</td>\n",
       "      <td>-0.030929</td>\n",
       "      <td>0.030583</td>\n",
       "      <td>-0.134036</td>\n",
       "      <td>0.280926</td>\n",
       "      <td>...</td>\n",
       "      <td>0.060791</td>\n",
       "      <td>-0.001906</td>\n",
       "      <td>-0.011042</td>\n",
       "      <td>0.032861</td>\n",
       "      <td>0.050465</td>\n",
       "      <td>-0.065118</td>\n",
       "      <td>-0.022054</td>\n",
       "      <td>0.113072</td>\n",
       "      <td>0.132170</td>\n",
       "      <td>-0.080701</td>\n",
       "    </tr>\n",
       "  </tbody>\n",
       "</table>\n",
       "<p>5 rows × 100 columns</p>\n",
       "</div>"
      ],
      "text/plain": [
       "         0         1         2         3         4         5         6   \\\n",
       "0 -0.091895  0.063149 -0.057836  0.009851 -0.051552 -0.117169  0.000009   \n",
       "1 -0.155574  0.043521  0.054153 -0.016723  0.134282 -0.061614  0.125422   \n",
       "2 -0.029920 -0.064131 -0.143349  0.001694  0.058575  0.015757  0.171826   \n",
       "3  0.082422 -0.004682 -0.163978  0.054701 -0.202720  0.045587 -0.019879   \n",
       "4  0.054473 -0.035465 -0.180297  0.030449 -0.116978 -0.011708 -0.030929   \n",
       "\n",
       "         7         8         9   ...        90        91        92        93  \\\n",
       "0  0.092844 -0.054788  0.086325  ... -0.013538  0.063213  0.052811 -0.100079   \n",
       "1  0.109618  0.048618 -0.074640  ... -0.069378  0.060734  0.049249 -0.201172   \n",
       "2  0.057257  0.023520  0.237250  ...  0.029356 -0.009491 -0.000153 -0.147717   \n",
       "3 -0.006567 -0.169330  0.218598  ...  0.076120  0.027204 -0.020368  0.069578   \n",
       "4  0.030583 -0.134036  0.280926  ...  0.060791 -0.001906 -0.011042  0.032861   \n",
       "\n",
       "         94        95        96        97        98        99  \n",
       "0  0.048334  0.063131 -0.146685  0.008719  0.077223 -0.141876  \n",
       "1 -0.025436  0.139699 -0.057406 -0.026968 -0.106947 -0.049060  \n",
       "2  0.027601  0.083605  0.077628  0.166580  0.047118 -0.117942  \n",
       "3  0.091084 -0.112655 -0.002900  0.035211  0.132046 -0.053046  \n",
       "4  0.050465 -0.065118 -0.022054  0.113072  0.132170 -0.080701  \n",
       "\n",
       "[5 rows x 100 columns]"
      ]
     },
     "execution_count": 151,
     "metadata": {},
     "output_type": "execute_result"
    }
   ],
   "source": [
    "print(X.shape)\n",
    "X.head()"
   ]
  },
  {
   "attachments": {},
   "cell_type": "markdown",
   "metadata": {},
   "source": [
    "# MLE"
   ]
  },
  {
   "cell_type": "code",
   "execution_count": 48,
   "metadata": {},
   "outputs": [
    {
     "ename": "TypeError",
     "evalue": "'numpy.float64' object is not callable",
     "output_type": "error",
     "traceback": [
      "\u001b[0;31m---------------------------------------------------------------------------\u001b[0m",
      "\u001b[0;31mTypeError\u001b[0m                                 Traceback (most recent call last)",
      "\u001b[0;32m/tmp/ipykernel_1538169/478702033.py\u001b[0m in \u001b[0;36m<module>\u001b[0;34m\u001b[0m\n\u001b[1;32m      1\u001b[0m \u001b[0mk\u001b[0m \u001b[0;34m=\u001b[0m \u001b[0;36m5\u001b[0m\u001b[0;34m\u001b[0m\u001b[0;34m\u001b[0m\u001b[0m\n\u001b[0;32m----> 2\u001b[0;31m \u001b[0mmle_result\u001b[0m \u001b[0;34m=\u001b[0m \u001b[0mmle\u001b[0m\u001b[0;34m(\u001b[0m\u001b[0mX\u001b[0m\u001b[0;34m.\u001b[0m\u001b[0mto_numpy\u001b[0m\u001b[0;34m(\u001b[0m\u001b[0;34m)\u001b[0m\u001b[0;34m,\u001b[0m  \u001b[0mk1\u001b[0m\u001b[0;34m=\u001b[0m\u001b[0mk\u001b[0m\u001b[0;34m,\u001b[0m \u001b[0mk2\u001b[0m\u001b[0;34m=\u001b[0m\u001b[0mk\u001b[0m\u001b[0;34m,\u001b[0m \u001b[0maverage\u001b[0m\u001b[0;34m=\u001b[0m\u001b[0;32mTrue\u001b[0m\u001b[0;34m)\u001b[0m\u001b[0;34m[\u001b[0m\u001b[0;36m0\u001b[0m\u001b[0;34m]\u001b[0m\u001b[0;34m\u001b[0m\u001b[0;34m\u001b[0m\u001b[0m\n\u001b[0m",
      "\u001b[0;31mTypeError\u001b[0m: 'numpy.float64' object is not callable"
     ]
    }
   ],
   "source": [
    "k = 5\n",
    "mle_result = mle(X.to_numpy(),  k1=k, k2=k, average=True)[0]"
   ]
  },
  {
   "cell_type": "code",
   "execution_count": 47,
   "metadata": {},
   "outputs": [
    {
     "ename": "NameError",
     "evalue": "name 'mle_result' is not defined",
     "output_type": "error",
     "traceback": [
      "\u001b[0;31m---------------------------------------------------------------------------\u001b[0m",
      "\u001b[0;31mNameError\u001b[0m                                 Traceback (most recent call last)",
      "\u001b[0;32m/tmp/ipykernel_1538169/3585908725.py\u001b[0m in \u001b[0;36m<module>\u001b[0;34m\u001b[0m\n\u001b[0;32m----> 1\u001b[0;31m \u001b[0mmle_result\u001b[0m\u001b[0;34m\u001b[0m\u001b[0;34m\u001b[0m\u001b[0m\n\u001b[0m",
      "\u001b[0;31mNameError\u001b[0m: name 'mle_result' is not defined"
     ]
    }
   ],
   "source": [
    "mle_result"
   ]
  },
  {
   "attachments": {},
   "cell_type": "markdown",
   "metadata": {},
   "source": [
    "# MLE R"
   ]
  },
  {
   "cell_type": "code",
   "execution_count": 152,
   "metadata": {},
   "outputs": [],
   "source": [
    "data_r = X.to_numpy()\n",
    "dim = X.shape[1]\n",
    "k=5\n",
    "#mle = intdimr.maxLikPointwiseDimEst(data_r, k=5).rx2('dim.est')\n",
    "mle = intdimr.maxLikGlobalDimEst(data_r, k=k).rx2('dim.est')"
   ]
  },
  {
   "cell_type": "code",
   "execution_count": 153,
   "metadata": {},
   "outputs": [
    {
     "data": {
      "text/plain": [
       "array([5.34525818])"
      ]
     },
     "execution_count": 153,
     "metadata": {},
     "output_type": "execute_result"
    }
   ],
   "source": [
    "mle"
   ]
  },
  {
   "attachments": {},
   "cell_type": "markdown",
   "metadata": {},
   "source": [
    "# Local PCA"
   ]
  },
  {
   "cell_type": "code",
   "execution_count": 146,
   "metadata": {},
   "outputs": [],
   "source": [
    "data_r = X\n",
    "dim = X.shape[1]\n",
    "lpca = intdimr.pcaLocalDimEst(data_r, 'FO').rx2('dim.est')"
   ]
  },
  {
   "cell_type": "code",
   "execution_count": 147,
   "metadata": {},
   "outputs": [
    {
     "data": {
      "text/plain": [
       "array([3], dtype=int32)"
      ]
     },
     "execution_count": 147,
     "metadata": {},
     "output_type": "execute_result"
    }
   ],
   "source": [
    "lpca"
   ]
  },
  {
   "cell_type": "code",
   "execution_count": 107,
   "metadata": {},
   "outputs": [],
   "source": [
    "df = pd.DataFrame(columns=['line'], index = ['mle', 'lpca'])\n",
    "df['line'].loc['mle'] = mle[0]\n",
    "df['line'].loc['lpca'] = lpca[0]\n",
    "df.index.name = 'method'"
   ]
  },
  {
   "cell_type": "code",
   "execution_count": 108,
   "metadata": {},
   "outputs": [
    {
     "data": {
      "text/html": [
       "<div>\n",
       "<style scoped>\n",
       "    .dataframe tbody tr th:only-of-type {\n",
       "        vertical-align: middle;\n",
       "    }\n",
       "\n",
       "    .dataframe tbody tr th {\n",
       "        vertical-align: top;\n",
       "    }\n",
       "\n",
       "    .dataframe thead th {\n",
       "        text-align: right;\n",
       "    }\n",
       "</style>\n",
       "<table border=\"1\" class=\"dataframe\">\n",
       "  <thead>\n",
       "    <tr style=\"text-align: right;\">\n",
       "      <th></th>\n",
       "      <th>line</th>\n",
       "    </tr>\n",
       "    <tr>\n",
       "      <th>method</th>\n",
       "      <th></th>\n",
       "    </tr>\n",
       "  </thead>\n",
       "  <tbody>\n",
       "    <tr>\n",
       "      <th>mle</th>\n",
       "      <td>0.0</td>\n",
       "    </tr>\n",
       "    <tr>\n",
       "      <th>lpca</th>\n",
       "      <td>32</td>\n",
       "    </tr>\n",
       "  </tbody>\n",
       "</table>\n",
       "</div>"
      ],
      "text/plain": [
       "       line\n",
       "method     \n",
       "mle     0.0\n",
       "lpca     32"
      ]
     },
     "execution_count": 108,
     "metadata": {},
     "output_type": "execute_result"
    }
   ],
   "source": [
    "df"
   ]
  },
  {
   "cell_type": "code",
   "execution_count": 109,
   "metadata": {},
   "outputs": [],
   "source": [
    "df.to_csv('test.csv')"
   ]
  },
  {
   "cell_type": "code",
   "execution_count": 98,
   "metadata": {},
   "outputs": [
    {
     "ename": "IndexError",
     "evalue": "invalid index to scalar variable.",
     "output_type": "error",
     "traceback": [
      "\u001b[0;31m---------------------------------------------------------------------------\u001b[0m",
      "\u001b[0;31mIndexError\u001b[0m                                Traceback (most recent call last)",
      "\u001b[0;32m/tmp/ipykernel_1538169/2268482669.py\u001b[0m in \u001b[0;36m<module>\u001b[0;34m\u001b[0m\n\u001b[0;32m----> 1\u001b[0;31m \u001b[0mlpca\u001b[0m\u001b[0;34m[\u001b[0m\u001b[0;36m0\u001b[0m\u001b[0;34m]\u001b[0m\u001b[0;34m\u001b[0m\u001b[0;34m\u001b[0m\u001b[0m\n\u001b[0m",
      "\u001b[0;31mIndexError\u001b[0m: invalid index to scalar variable."
     ]
    }
   ],
   "source": [
    "lpca[0]"
   ]
  }
 ],
 "metadata": {
  "kernelspec": {
   "display_name": "score_sde",
   "language": "python",
   "name": "python3"
  },
  "language_info": {
   "codemirror_mode": {
    "name": "ipython",
    "version": 3
   },
   "file_extension": ".py",
   "mimetype": "text/x-python",
   "name": "python",
   "nbconvert_exporter": "python",
   "pygments_lexer": "ipython3",
   "version": "3.9.7 (default, Sep 16 2021, 13:09:58) \n[GCC 7.5.0]"
  },
  "orig_nbformat": 4,
  "vscode": {
   "interpreter": {
    "hash": "e04dfab5a735282f70189deb585c659c772ad01f2c1372ae95c30692776083a0"
   }
  }
 },
 "nbformat": 4,
 "nbformat_minor": 2
}
