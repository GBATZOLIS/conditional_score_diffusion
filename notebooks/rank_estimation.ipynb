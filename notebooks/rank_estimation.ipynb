{
 "cells": [
  {
   "cell_type": "code",
   "execution_count": 27,
   "metadata": {},
   "outputs": [],
   "source": [
    "import numpy as np\n",
    "import scipy\n",
    "from matplotlib import pyplot as plt"
   ]
  },
  {
   "cell_type": "code",
   "execution_count": 43,
   "metadata": {},
   "outputs": [],
   "source": [
    "def marcenko_pastur_median(beta):\n",
    "    beta_plus = (1 + np.sqrt(beta))**2\n",
    "    beta_minus = (1 - np.sqrt(beta))**2\n",
    "    def f(x):\n",
    "        return scipy.integrate.quad(lambda t: (np.sqrt((beta_plus - t)*(t-beta_minus)) / (2*np.pi*t)), beta_minus, x)[0] - 0.5\n",
    "\n",
    "    return scipy.optimize.fsolve(f, (beta_minus + beta_plus)/2)[0]"
   ]
  },
  {
   "cell_type": "code",
   "execution_count": 48,
   "metadata": {},
   "outputs": [
    {
     "data": {
      "text/plain": [
       "3.6640162827466467"
      ]
     },
     "execution_count": 48,
     "metadata": {},
     "output_type": "execute_result"
    }
   ],
   "source": [
    "marcenko_pastur_median(4)"
   ]
  }
 ],
 "metadata": {
  "kernelspec": {
   "display_name": "score_sde",
   "language": "python",
   "name": "python3"
  },
  "language_info": {
   "codemirror_mode": {
    "name": "ipython",
    "version": 3
   },
   "file_extension": ".py",
   "mimetype": "text/x-python",
   "name": "python",
   "nbconvert_exporter": "python",
   "pygments_lexer": "ipython3",
   "version": "3.9.7"
  },
  "orig_nbformat": 4,
  "vscode": {
   "interpreter": {
    "hash": "e04dfab5a735282f70189deb585c659c772ad01f2c1372ae95c30692776083a0"
   }
  }
 },
 "nbformat": 4,
 "nbformat_minor": 2
}
