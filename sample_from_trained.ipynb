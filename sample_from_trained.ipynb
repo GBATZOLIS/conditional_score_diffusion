{
 "cells": [
  {
   "cell_type": "code",
   "execution_count": 1,
   "metadata": {},
   "outputs": [],
   "source": [
    "import torch\n",
    "import numpy as np\n",
    "import matplotlib.pyplot as plt\n",
    "from torch.distributions.multivariate_normal import MultivariateNormal\n",
    "from torch.distributions.mixture_same_family import MixtureSameFamily\n",
    "from torch.distributions.normal import Normal\n",
    "from torch.distributions.categorical import Categorical\n",
    "from torch.distributions.independent import Independent\n",
    "from lightning_data_modules.SyntheticDataset import SyntheticDataModule\n",
    "from lightning_modules.BaseSdeGenerativeModel import BaseSdeGenerativeModel\n",
    "from lightning_modules.FokkerPlanckModel import FokkerPlanckModel\n",
    "from lightning_modules.ConservativeSdeGenerativeModel import ConservativeSdeGenerativeModel\n",
    "from models.fcn_potential import FCN_Potential\n",
    "from models.fcn import FCN\n",
    "from models.utils import get_score_fn\n",
    "from utils import compute_divergence, compute_grad, compute_curl, generate_grid, extract_vector_field, fisher_divergence\n",
    "from plot_utils import plot_log_energy\n",
    "import sde_lib"
   ]
  },
  {
   "cell_type": "code",
   "execution_count": 2,
   "metadata": {},
   "outputs": [],
   "source": [
    "from configs.ksphere.vesde_512 import get_config\n",
    "config = get_config()\n",
    "ckpt_path = \"/home/js2164/rds/hpc-work/repos/score_sde_pytorch/logs/ksphere/ve_512/checkpoints/best/last.ckpt\""
   ]
  },
  {
   "cell_type": "code",
   "execution_count": 3,
   "metadata": {},
   "outputs": [],
   "source": [
    "def sample(ckpt_path, sampling_config):\n",
    "    from sampling.unconditional import get_sampling_fn\n",
    "    pl_module = FokkerPlanckModel.load_from_checkpoint(ckpt_path)\n",
    "    score_model = pl_module.score_model\n",
    "    pl_module.configure_sde(config)\n",
    "    pl_module = pl_module.eval()\n",
    "\n",
    "    num_samples = 5000   \n",
    "    sde = sde_lib.VESDE(sigma_min=config.model.sigma_min, sigma_max=config.model.sigma_max, N=config.model.num_scales, data_mean=None) #pl_module.sde\n",
    "    sampling_eps = 1e-5\n",
    "    sampling_shape = [num_samples] +  config.data.shape\n",
    "    sampling_fn = get_sampling_fn(config, sde, sampling_shape, sampling_eps)\n",
    "    score_model = pl_module.score_model\n",
    "    samples, _ = sampling_fn(score_model)#, show_evolution=False)\n",
    "    return samples"
   ]
  },
  {
   "cell_type": "code",
   "execution_count": 4,
   "metadata": {},
   "outputs": [
    {
     "name": "stderr",
     "output_type": "stream",
     "text": [
      "100%|██████████| 1000/1000 [02:10<00:00,  7.65it/s]\n"
     ]
    }
   ],
   "source": [
    "config = get_config()\n",
    "samples = sample(ckpt_path,config)"
   ]
  },
  {
   "cell_type": "code",
   "execution_count": 23,
   "metadata": {},
   "outputs": [
    {
     "name": "stdout",
     "output_type": "stream",
     "text": [
      "0.3241596817970276\n",
      "1.936919093132019\n",
      "1.0073726177215576\n"
     ]
    }
   ],
   "source": [
    "print(torch.linalg.norm(samples, dim=1).min().item())\n",
    "print(torch.linalg.norm(samples, dim=1).max().item())\n",
    "print(torch.linalg.norm(samples, dim=1).mean().item())"
   ]
  },
  {
   "cell_type": "code",
   "execution_count": 28,
   "metadata": {},
   "outputs": [
    {
     "data": {
      "image/png": "[encoded data removed]",
      "text/plain": [
       "<Figure size 432x288 with 1 Axes>"
      ]
     },
     "metadata": {
      "needs_background": "light"
     },
     "output_type": "display_data"
    }
   ],
   "source": [
    "norms=torch.linalg.norm(samples, dim=1).numpy()\n",
    "plt.hist(norms, bins=50)\n",
    "plt.show()"
   ]
  },
  {
   "cell_type": "code",
   "execution_count": 21,
   "metadata": {},
   "outputs": [
    {
     "data": {
      "text/plain": [
       "<matplotlib.collections.PathCollection at 0x2ab77d997ac0>"
      ]
     },
     "execution_count": 21,
     "metadata": {},
     "output_type": "execute_result"
    },
    {
     "data": {
      "image/png": "[encoded data removed]",
      "text/plain": [
       "<Figure size 432x288 with 1 Axes>"
      ]
     },
     "metadata": {
      "needs_background": "light"
     },
     "output_type": "display_data"
    }
   ],
   "source": [
    "from matplotlib import pyplot as plt\n",
    "plt.scatter(samples[:,0], samples[:,10])"
   ]
  },
  {
   "cell_type": "code",
   "execution_count": 29,
   "metadata": {},
   "outputs": [
    {
     "data": {
      "text/plain": [
       "data:\n",
       "  ambient_dim: 100\n",
       "  create_dataset: false\n",
       "  data_samples: 50000\n",
       "  datamodule: KSphere\n",
       "  dim: 100\n",
       "  manifold_dim: 10\n",
       "  noise_std: 0\n",
       "  num_channels: 0\n",
       "  shape:\n",
       "  - 100\n",
       "  split:\n",
       "  - 0.8\n",
       "  - 0.1\n",
       "  - 0.1\n",
       "  use_data_mean: false\n",
       "device: !!python/object/apply:torch.device\n",
       "- cpu\n",
       "eval:\n",
       "  batch_size: 512\n",
       "  begin_ckpt: 50\n",
       "  bpd_dataset: test\n",
       "  callback: null\n",
       "  enable_bpd: false\n",
       "  enable_loss: true\n",
       "  enable_sampling: true\n",
       "  end_ckpt: 96\n",
       "  num_samples: 50000\n",
       "  workers: 4\n",
       "logging:\n",
       "  envery_timedelta: !!python/object/apply:datetime.timedelta\n",
       "  - 0\n",
       "  - 60\n",
       "  - 0\n",
       "  every_n_epochs: 1000\n",
       "  log_name: ve_512\n",
       "  log_path: logs/ksphere/\n",
       "  top_k: 5\n",
       "model:\n",
       "  beta_max: 25\n",
       "  beta_min: 0.1\n",
       "  checkpoint_path: null\n",
       "  dropout: 0.0\n",
       "  ema_rate: 0.9999\n",
       "  hidden_layers: 3\n",
       "  hidden_nodes: 512\n",
       "  name: fcn\n",
       "  num_scales: 1000\n",
       "  scale_by_sigma: false\n",
       "  sigma_max: 4\n",
       "  sigma_min: 0.01\n",
       "  state_size: 100\n",
       "optim:\n",
       "  beta1: 0.9\n",
       "  eps: 1.0e-08\n",
       "  grad_clip: 1.0\n",
       "  lr: 2.0e-05\n",
       "  optimizer: Adam\n",
       "  warmup: 5000\n",
       "  weight_decay: 0\n",
       "sampling:\n",
       "  corrector: none\n",
       "  method: pc\n",
       "  n_steps_each: 1\n",
       "  noise_removal: true\n",
       "  predictor: reverse_diffusion\n",
       "  probability_flow: false\n",
       "  snr: 0.15\n",
       "seed: 42\n",
       "training:\n",
       "  accelerator: null\n",
       "  accumulate_grad_batches: 1\n",
       "  batch_size: 500\n",
       "  continuous: true\n",
       "  eval_freq: 2500\n",
       "  gpus: 1\n",
       "  lightning_module: base\n",
       "  likelihood_weighting: true\n",
       "  log_freq: 50\n",
       "  n_iters: 100000000000000000000\n",
       "  num_epochs: 20000\n",
       "  num_nodes: 1\n",
       "  reduce_mean: false\n",
       "  sde: vesde\n",
       "  show_evolution: false\n",
       "  snapshot_freq: 5000\n",
       "  snapshot_freq_for_preemption: 5000\n",
       "  snapshot_sampling: true\n",
       "  visualization_callback: null\n",
       "  workers: 4\n",
       "validation:\n",
       "  batch_size: 500\n",
       "  workers: 4"
      ]
     },
     "execution_count": 29,
     "metadata": {},
     "output_type": "execute_result"
    }
   ],
   "source": [
    "config"
   ]
  },
  {
   "cell_type": "code",
   "execution_count": null,
   "metadata": {},
   "outputs": [],
   "source": []
  }
 ],
 "metadata": {
  "kernelspec": {
   "display_name": "Python 3.9.7 ('score_sde')",
   "language": "python",
   "name": "python3"
  },
  "language_info": {
   "codemirror_mode": {
    "name": "ipython",
    "version": 3
   },
   "file_extension": ".py",
   "mimetype": "text/x-python",
   "name": "python",
   "nbconvert_exporter": "python",
   "pygments_lexer": "ipython3",
   "version": "3.9.7"
  },
  "orig_nbformat": 4,
  "vscode": {
   "interpreter": {
    "hash": "2c163f384f13400461e75fa0c1e3ff8147dc43b3b192ad8858a0755f1420386d"
   }
  }
 },
 "nbformat": 4,
 "nbformat_minor": 2
}
